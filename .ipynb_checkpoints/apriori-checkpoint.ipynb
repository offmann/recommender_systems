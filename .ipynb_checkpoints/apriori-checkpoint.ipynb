{
 "cells": [
  {
   "cell_type": "code",
   "execution_count": null,
   "metadata": {},
   "outputs": [],
   "source": [
    "from efficient_apriori import apriori"
   ]
  },
  {
   "cell_type": "code",
   "execution_count": null,
   "metadata": {},
   "outputs": [],
   "source": [
    "transactions = [('eggs', 'bacon', 'soup'),\n",
    "                ('eggs', 'bacon', 'apple'),\n",
    "                ('soup','bacon','bacon'),\n",
    "                ('soup', 'bacon', 'banana')]\n",
    "\n",
    "itemsets, rules = apriori(transactions, min_support=0.5, min_confidence=1)\n",
    "print(rules)"
   ]
  },
  {
   "cell_type": "code",
   "execution_count": null,
   "metadata": {},
   "outputs": [],
   "source": [
    "# Print out every rule with 2 items on the left hand side,\n",
    "\n",
    "# 1 item on the right hand side, sorted by lift\n",
    "rules_rhs = filter(lambda rule: len(rule.lhs) == 2 and len(rule.rhs) == 1, rules)\n",
    "\n",
    "for rule in sorted(rules_rhs, key=lambda rule: rule.lift):\n",
    "  print(rule)  # Prints the rule and its confidence, support, lift, ..."
   ]
  },
  {
   "cell_type": "code",
   "execution_count": null,
   "metadata": {},
   "outputs": [],
   "source": [
    "def data_generator(filename):\n",
    "  \"\"\"\n",
    "  Data generator, needs to return a generator to be called several times.\n",
    "  Use this approach if data is too large to fit in memory. If not use a list.\n",
    "  \"\"\"\n",
    "  def data_gen():\n",
    "    with open(filename) as file:\n",
    "        for line in file:\n",
    "            yield tuple(k.strip() for k in line.split(','))      \n",
    "\n",
    "    return data_gen\n",
    "\n",
    "transactions = data_generator('dataset.csv')\n",
    "itemsets, rules = apriori(transactions, min_support=0.9, min_confidence=0.6)"
   ]
  }
 ],
 "metadata": {
  "kernelspec": {
   "display_name": "Python 3",
   "language": "python",
   "name": "python3"
  },
  "language_info": {
   "codemirror_mode": {
    "name": "ipython",
    "version": 3
   },
   "file_extension": ".py",
   "mimetype": "text/x-python",
   "name": "python",
   "nbconvert_exporter": "python",
   "pygments_lexer": "ipython3",
   "version": "3.7.7"
  }
 },
 "nbformat": 4,
 "nbformat_minor": 4
}
