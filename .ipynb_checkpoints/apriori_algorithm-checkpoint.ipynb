{
 "cells": [
  {
   "cell_type": "code",
   "execution_count": null,
   "metadata": {},
   "outputs": [],
   "source": [
    "def apriori(itemSetList, minSup, minConf):\n",
    "    C1ItemSet = getItemSetFromList(itemSetList)\n",
    "    # Final result, global frequent itemset\n",
    "    globalFreqItemSet = dict()\n",
    "    # Storing global itemset with support count\n",
    "    globalItemSetWithSup = defaultdict(int)\n",
    "\n",
    "    L1ItemSet = getAboveMinSup(C1ItemSet, itemSetList, minSup, globalItemSetWithSup)\n",
    "    currentLSet = L1ItemSet\n",
    "    k = 2\n",
    "\n",
    "    # Calculating frequent item set\n",
    "    while(currentLSet):\n",
    "        # Storing frequent itemset\n",
    "        globalFreqItemSet[k-1] = currentLSet\n",
    "        # Self-joining Lk\n",
    "        candidateSet = getUnion(currentLSet, k)\n",
    "        # Perform subset testing and remove pruned supersets\n",
    "        candidateSet = pruning(candidateSet, currentLSet, k-1)\n",
    "        # Scanning itemSet for counting support\n",
    "        currentLSet = getAboveMinSup(candidateSet, itemSetList, minSup, globalItemSetWithSup)\n",
    "        k += 1\n",
    "\n",
    "    rules = associationRule(globalFreqItemSet, globalItemSetWithSup, minConf)\n",
    "    rules.sort(key=lambda x: x[2])\n",
    "\n",
    "    return globalFreqItemSet, rules"
   ]
  }
 ],
 "metadata": {
  "kernelspec": {
   "display_name": "Python 3",
   "language": "python",
   "name": "python3"
  },
  "language_info": {
   "codemirror_mode": {
    "name": "ipython",
    "version": 3
   },
   "file_extension": ".py",
   "mimetype": "text/x-python",
   "name": "python",
   "nbconvert_exporter": "python",
   "pygments_lexer": "ipython3",
   "version": "3.7.7"
  }
 },
 "nbformat": 4,
 "nbformat_minor": 4
}
